{
  "nbformat": 4,
  "nbformat_minor": 0,
  "metadata": {
    "colab": {
      "name": "Stock_Prediction_Hdcar.ipynb",
      "private_outputs": true,
      "provenance": [],
      "collapsed_sections": [],
      "machine_shape": "hm"
    },
    "kernelspec": {
      "name": "python3",
      "display_name": "Python 3"
    },
    "language_info": {
      "name": "python"
    },
    "accelerator": "GPU"
  },
  "cells": [
    {
      "cell_type": "code",
      "source": [
        "pip install finance-datareader"
      ],
      "metadata": {
        "id": "ZCIy676cvtxi"
      },
      "execution_count": null,
      "outputs": []
    },
    {
      "cell_type": "code",
      "source": [
        "import pandas as pd\n",
        "import numpy as np\n",
        "import matplotlib.pyplot as plt\n",
        "import seaborn as sns\n",
        "import warnings\n",
        "import os\n",
        "\n",
        "%matplotlib inline\n",
        "warnings.filterwarnings('ignore')\n",
        "\n",
        "plt.rcParams['font.family'] = 'NanumGothic'"
      ],
      "metadata": {
        "id": "RKQTshp8_X-K"
      },
      "execution_count": null,
      "outputs": []
    },
    {
      "cell_type": "code",
      "source": [
        "import FinanceDataReader as fdr\n",
        "df_krx = fdr.StockListing('KRX')\n",
        "df_krx.head()"
      ],
      "metadata": {
        "id": "JMEDoRHFvlJ6"
      },
      "execution_count": null,
      "outputs": []
    },
    {
      "cell_type": "code",
      "source": [
        "hdcar = fdr.DataReader('005380')# 현대차 종목번호 = 005380"
      ],
      "metadata": {
        "id": "wT74BLJGDChC"
      },
      "execution_count": null,
      "outputs": []
    },
    {
      "cell_type": "code",
      "source": [
        "hdcar"
      ],
      "metadata": {
        "id": "F1KHXa31G3Fn"
      },
      "execution_count": null,
      "outputs": []
    },
    {
      "cell_type": "markdown",
      "source": [
        "# 데이터 설명\n",
        "- Open : 시초가\n",
        "- High : 고가\n",
        "- Low : 저가\n",
        "- Close : 종가\n",
        "- Volumne : 거래량\n",
        "- Change : 대비"
      ],
      "metadata": {
        "id": "laAbOS_yG4Pv"
      }
    },
    {
      "cell_type": "code",
      "source": [
        "hdcar.tail()"
      ],
      "metadata": {
        "id": "0At3MLkdHNfF"
      },
      "execution_count": null,
      "outputs": []
    },
    {
      "cell_type": "code",
      "source": [
        "# 특정 연도 기준 이후의 데이터 필요시\n",
        "hdcar_2022 = fdr.DataReader('005380', '2022')\n",
        "hdcar_2022"
      ],
      "metadata": {
        "id": "6ph-LxbnHVo2"
      },
      "execution_count": null,
      "outputs": []
    },
    {
      "cell_type": "code",
      "source": [
        "# 최근 20년간 삼성전자 주가 모음\n",
        "hdcar_20 = fdr.DataReader('005380', '2002')\n",
        "hdcar_20"
      ],
      "metadata": {
        "id": "qiITnta1Hjvu"
      },
      "execution_count": null,
      "outputs": []
    },
    {
      "cell_type": "code",
      "source": [
        "hdcar_20.describe"
      ],
      "metadata": {
        "id": "4MNTGQFNH0_v"
      },
      "execution_count": null,
      "outputs": []
    },
    {
      "cell_type": "code",
      "source": [
        "hdcar_20.index"
      ],
      "metadata": {
        "id": "h40ANmtKH7UO"
      },
      "execution_count": null,
      "outputs": []
    },
    {
      "cell_type": "code",
      "source": [
        "# DatetimeIndex = 연도/월/일 split 가능\n",
        "hdcar_20['Year'] = hdcar_20.index.year\n",
        "hdcar_20['Month'] = hdcar_20.index.month\n",
        "hdcar_20['Day'] = hdcar_20.index.day"
      ],
      "metadata": {
        "id": "mpYQxeHJIDA6"
      },
      "execution_count": null,
      "outputs": []
    },
    {
      "cell_type": "code",
      "source": [
        "hdcar_20"
      ],
      "metadata": {
        "id": "hPZVKxCGIVKL"
      },
      "execution_count": null,
      "outputs": []
    },
    {
      "cell_type": "code",
      "source": [
        "import matplotlib as mpl\n",
        "%matplotlib inline\n",
        "\n",
        "plt.figure(figsize = (20, 12))\n",
        "plt.plot(hdcar_20.index, hdcar_20['Close'])# plt.plot은 x, y 기입 필요x, 순서에 맞게\n",
        "#sns.lineplot(y = hdcar_20['Close'], x = hdcar_20.index)# sns.lineplot은 x,y 기입 필요\n",
        "plt.xlabel('Time')\n",
        "plt.ylabel('Close_Price')\n",
        "plt.title('HyunDai Car recent 20 years close_prices')"
      ],
      "metadata": {
        "id": "g316oKKXQ6Xc"
      },
      "execution_count": null,
      "outputs": []
    },
    {
      "cell_type": "code",
      "source": [
        "# 5년 단위로 나눴을대\n",
        "hdcar_0207 = fdr.DataReader('005380', '2002', '2007')\n",
        "hdcar_0712 = fdr.DataReader('005380', '2007', '2012')\n",
        "hdcar_1217 = fdr.DataReader('005380', '2012', '2017')\n",
        "hdcar_1722 = fdr.DataReader('005380', '2017', '2022')\n",
        "'''\n",
        "#fig, ax = plt.subplots()\n",
        "plt.figure(figsize = (20, 12))\n",
        "plt.ylim([20000, 275000])\n",
        "\n",
        "plt.subplot(2, 2, 1)\n",
        "plt.plot(hdcar_0207.index.year, hdcar_0207['Close'])\n",
        "plt.title('HD Car 2002 ~ 2007')\n",
        "plt.xlabel('time')\n",
        "plt.ylabel('Close price')\n",
        "\n",
        "plt.subplot(2, 2, 2)\n",
        "plt.plot(hdcar_0712.index.year, hdcar_0712['Close'])\n",
        "plt.title('HD Car 2007 ~ 2012')\n",
        "plt.xlabel('time')\n",
        "plt.ylabel('Close price')\n",
        "\n",
        "\n",
        "plt.subplot(2, 2, 3)\n",
        "plt.plot(hdcar_1217.index.year, hdcar_1217['Close'])\n",
        "plt.title('HD Car 2012 ~ 2017')\n",
        "plt.xlabel('time')\n",
        "plt.ylabel('Close price')\n",
        "\n",
        "\n",
        "plt.subplot(2, 2, 4)\n",
        "#plt.figure(figsize = (20, 12))\n",
        "plt.plot(hdcar_1722.index.year, hdcar_1722['Close'])\n",
        "plt.title('HD Car 2017 ~ 2022')\n",
        "plt.xlabel('time')\n",
        "plt.ylabel('Close price')\n",
        "'''\n"
      ],
      "metadata": {
        "id": "IdvvcXQjRmci"
      },
      "execution_count": null,
      "outputs": []
    },
    {
      "cell_type": "code",
      "source": [
        "\n",
        "plt.figure(figsize = (16, 9))\n",
        "plt.subplot(221)\n",
        "plt.plot(hdcar_0207.index, hdcar_0207['Close'])\n",
        "plt.xlabel('Time')\n",
        "plt.ylabel('Close_Price')\n",
        "plt.title('HyunDai Car 0207 close_prices')\n",
        "\n",
        "#plt.figure(figsize = (16, 9))\n",
        "plt.subplot(222)\n",
        "plt.plot(hdcar_0712.index, hdcar_0712['Close'])\n",
        "plt.xlabel('Time')\n",
        "plt.ylabel('Close_Price')\n",
        "plt.title('HyunDai Car 0712 close_prices')\n",
        "\n",
        "#plt.figure(figsize = (16, 9))\n",
        "plt.subplot(223)\n",
        "plt.plot(hdcar_1217.index, hdcar_1217['Close'])\n",
        "plt.xlabel('Time')\n",
        "plt.ylabel('Close_Price')\n",
        "plt.title('HyunDai Car 1217 close_prices')\n",
        "\n",
        "#plt.figure(figsize = (16, 9))\n",
        "plt.subplot(224)\n",
        "plt.plot(hdcar_1722.index, hdcar_1722['Close'])\n",
        "plt.xlabel('Time')\n",
        "plt.ylabel('Close_Price')\n",
        "plt.title('HyunDai Car 1722 close_prices')\n",
        "\n",
        "plt.tight_layout()\n",
        "plt.show()"
      ],
      "metadata": {
        "id": "PPZa0m2ETxw-"
      },
      "execution_count": null,
      "outputs": []
    },
    {
      "cell_type": "code",
      "source": [
        "from sklearn.preprocessing import MinMaxScaler\n",
        "\n",
        "scaler = MinMaxScaler()\n",
        "scaling_cols = ['Open', 'High', 'Low', 'Close', 'Volume']\n",
        "scaled_df = scaler.fit_transform(hdcar_20[scaling_cols])\n",
        "scaled_df"
      ],
      "metadata": {
        "id": "LNJ02k9c0Jr_"
      },
      "execution_count": null,
      "outputs": []
    },
    {
      "cell_type": "code",
      "source": [
        "import pandas as pd\n",
        "\n",
        "df = pd.DataFrame(scaled_df, columns = scaling_cols)\n",
        "df"
      ],
      "metadata": {
        "id": "9779CjqNAdrG"
      },
      "execution_count": null,
      "outputs": []
    },
    {
      "cell_type": "code",
      "source": [
        "# train test split\n",
        "from sklearn.model_selection import train_test_split\n",
        "x_train, x_test, y_train, y_test = train_test_split(df.drop('Close', 1), df['Close'], test_size = 0.2, random_state = 0, shuffle = False)\n",
        "x_train.shape, y_train.shape, x_test.shape, y_test.shape"
      ],
      "metadata": {
        "id": "S89J5a0RAmJW"
      },
      "execution_count": null,
      "outputs": []
    },
    {
      "cell_type": "code",
      "source": [
        "x_train"
      ],
      "metadata": {
        "id": "SlKcGaMdA3Vf"
      },
      "execution_count": null,
      "outputs": []
    },
    {
      "cell_type": "code",
      "source": [
        "# sequnce dataset\n",
        "import tensorflow as tf\n",
        "\n",
        "def window_dataset(series, window_size, batch_size, shuffle):\n",
        "    serires = tf.expand_dims(series, axis = -1)\n",
        "    dataset = tf.data.Dataset.from_tensor_slices(series)\n",
        "    dataset = dataset.window(window_size+1, shift = 1, drop_remainder = True)\n",
        "    dataset = dataset.flat_map(lambda w : w.batch(window_size + 1))\n",
        "    if shuffle:\n",
        "        dataset = dataset.shuffle(1000)\n",
        "    dataset = dataset.map(lambda w : (w[:-1], w[-1]))\n",
        "    return dataset.batch(batch_size).prefetch(1)\n"
      ],
      "metadata": {
        "id": "ruW38ZPYBJMX"
      },
      "execution_count": null,
      "outputs": []
    },
    {
      "cell_type": "code",
      "source": [
        "window_size = 20\n",
        "batch_size = 32\n",
        "\n",
        "train_data = window_dataset(y_train, window_size, batch_size, True)\n",
        "test_data = window_dataset(y_test, window_size, batch_size, False)\n",
        "\n",
        "for data in train_data.take(1):\n",
        "    print('Data set X : batch_size = {0}, window_size = {1}, feature 개수 : {2}'.format(batch_size, window_size, data[0].shape))\n",
        "    print('Data set Y : batch_size = {0}, window_size = {1}, feature 개수 : {2}'.format(batch_size, window_size, data[1].shape))"
      ],
      "metadata": {
        "id": "c49W2LEiFbdI"
      },
      "execution_count": null,
      "outputs": []
    },
    {
      "cell_type": "markdown",
      "source": [
        "# Model"
      ],
      "metadata": {
        "id": "5KQ_gqQ-Mg_M"
      }
    },
    {
      "cell_type": "code",
      "source": [
        "from tensorflow.keras.models import Sequential\n",
        "from tensorflow.keras.layers import Dense, LSTM, Conv1D, Lambda\n",
        "from tensorflow.keras.losses import Huber\n",
        "from tensorflow.keras.optimizers import Adam\n",
        "from tensorflow.keras.callbacks import EarlyStopping, ModelCheckpoint\n",
        "\n",
        "model = Sequential([\n",
        "                    Conv1D(filters = 32, kernel_size = 5, padding = 'causal', activation = 'relu', input_shape = [window_size, 1]),\n",
        "                    LSTM(16, activation = 'tanh'),\n",
        "                    Dense(16, activation = 'relu'),\n",
        "                    Dense(1),\n",
        "\n",
        "])\n",
        "\n",
        "loss = Huber()# Sequence 학습에 좋은 성능의 Huber\n",
        "optimizer = Adam(0.001)\n",
        "model.compile(loss = Huber(), optimizer = optimizer, metrics = ['mse'])"
      ],
      "metadata": {
        "id": "vqm0gHiNMpDz"
      },
      "execution_count": null,
      "outputs": []
    },
    {
      "cell_type": "code",
      "source": [
        "# callback func\n",
        "earlystopping = EarlyStopping(monitor = 'val_loss', patience = 10)\n",
        "file_name = os.path.join('tmp', 'checkpointer.ckpt')\n",
        "checkpoint = ModelCheckpoint(\n",
        "    file_name, \n",
        "    save_weights_only = True, \n",
        "    save_best_only = True,\n",
        "    monitor = 'val_loss',\n",
        "    verbose = 1\n",
        "    )"
      ],
      "metadata": {
        "id": "ApD6GPkoNUmg"
      },
      "execution_count": null,
      "outputs": []
    },
    {
      "cell_type": "code",
      "source": [
        "history = model.fit(train_data, validation_data = (test_data), epochs = 50, callbacks = [checkpoint, earlystopping])"
      ],
      "metadata": {
        "id": "m9EZ8jbRN6Rw"
      },
      "execution_count": null,
      "outputs": []
    },
    {
      "cell_type": "code",
      "source": [
        "model.load_weights(file_name)"
      ],
      "metadata": {
        "id": "8aHQgzhOOL7e"
      },
      "execution_count": null,
      "outputs": []
    },
    {
      "cell_type": "code",
      "source": [
        "prediction = model.predict(test_data)\n",
        "prediction.shape"
      ],
      "metadata": {
        "id": "UQhOzpxiOme2"
      },
      "execution_count": null,
      "outputs": []
    },
    {
      "cell_type": "code",
      "source": [
        "plt.figure(figsize = (12, 9))\n",
        "plt.plot(np.asarray(y_test)[20:], label = 'actual')\n",
        "plt.plot(prediction, label = 'prediction')\n",
        "plt.legend()\n",
        "plt.show()"
      ],
      "metadata": {
        "id": "DN5JnZjdOqvB"
      },
      "execution_count": null,
      "outputs": []
    },
    {
      "cell_type": "code",
      "source": [
        "from tensorflow.keras.optimizers import Adamax\n",
        "model = Sequential([\n",
        "                    Conv1D(filters = 32, kernel_size = 5, padding = 'causal', activation = 'relu', input_shape = [window_size, 1]),\n",
        "                    LSTM(16, activation = 'tanh'),\n",
        "                    Dense(16, activation = 'relu'),\n",
        "                    Dense(1),\n",
        "\n",
        "])\n",
        "\n",
        "loss = Huber()# Sequence 학습에 좋은 성능의 Huber\n",
        "optimizer = Adamax(0.0005)\n",
        "model.compile(loss = Huber(), optimizer = optimizer, metrics = ['mse'])\n",
        "\n",
        "earlystopping = EarlyStopping(monitor = 'val_loss', patience = 10)\n",
        "file_name = os.path.join('tmp', 'checkpointer.ckpt')\n",
        "checkpoint = ModelCheckpoint(\n",
        "    file_name, \n",
        "    save_weights_only = True, \n",
        "    save_best_only = True,\n",
        "    monitor = 'val_loss',\n",
        "    verbose = 1\n",
        "    )\n",
        "\n",
        "\n",
        "history = model.fit(train_data, validation_data = (test_data), epochs = 50, callbacks = [checkpoint, earlystopping])\n",
        "\n",
        "model.load_weights(file_name)\n",
        "\n",
        "plt.figure(figsize = (12, 9))\n",
        "plt.plot(np.asarray(y_test)[20:], label = 'actual')\n",
        "plt.plot(prediction, label = 'prediction')\n",
        "plt.legend()\n",
        "plt.show()"
      ],
      "metadata": {
        "id": "eAgo9OmaOzlc"
      },
      "execution_count": null,
      "outputs": []
    },
    {
      "cell_type": "code",
      "source": [
        "y_test"
      ],
      "metadata": {
        "id": "llpoxA3xPMrv"
      },
      "execution_count": null,
      "outputs": []
    },
    {
      "cell_type": "code",
      "source": [
        "hdcar_20"
      ],
      "metadata": {
        "id": "H6LG8RUSctV3"
      },
      "execution_count": null,
      "outputs": []
    },
    {
      "cell_type": "code",
      "source": [
        "hdcar_20.to_csv('Hyundai Car 20020102 ~ 20220119.csv', encoding = 'UTF8')"
      ],
      "metadata": {
        "id": "DTb9TI3ie-nr"
      },
      "execution_count": null,
      "outputs": []
    },
    {
      "cell_type": "code",
      "source": [
        "hdcar_20[scaling_cols]"
      ],
      "metadata": {
        "id": "yRjDkD55fP2v"
      },
      "execution_count": null,
      "outputs": []
    },
    {
      "cell_type": "code",
      "source": [
        "hdcar_20[scaling_cols].to_csv('Hyundai Car 20020102 ~ 20220119 시가, 고가, 저가, 종가, 거래량.csv', encoding = 'UTF8')"
      ],
      "metadata": {
        "id": "def2dvLLfqlt"
      },
      "execution_count": null,
      "outputs": []
    },
    {
      "cell_type": "code",
      "source": [
        "import time\n",
        "\n",
        "def plot_plt(history, save_name, time):\n",
        "    now = time\n",
        "    plt.figure(figsize = (16, 8))\n",
        "    \n",
        "    plt.figure(figsize = (16, 8))\n",
        "    plt.plot(history.history['loss'])\n",
        "    plt.plot(history.history['val_loss'])\n",
        "    \n",
        "    plt.title('Train loss {0}'.format(save_name), fontsize = 20)\n",
        "    plt.ylabel('loss')\n",
        "    plt.xlabel('epoch')\n",
        "    plt.legend(['train_loss', 'val_loss'], loc = 'upper left')\n",
        "    plt.savefig('./tmp/loss_graph/{0}_{1}_{2}_{3}_{4}_{5}_loss_graph.jpg'.format(now.tm_year, now.tm_mon, now.tm_mday, now.tm_hour, now.tm_min, save_name), bbox_inches = 'tight', dpi = 200)\n",
        "    plt.show()\n",
        "    plt.cla()"
      ],
      "metadata": {
        "id": "_Me3WyNufwgy"
      },
      "execution_count": null,
      "outputs": []
    },
    {
      "cell_type": "code",
      "source": [
        "history.params"
      ],
      "metadata": {
        "id": "zogL4N7Dh6zJ"
      },
      "execution_count": null,
      "outputs": []
    },
    {
      "cell_type": "code",
      "source": [
        "history.history.keys()"
      ],
      "metadata": {
        "id": "_FJ0S1igh93z"
      },
      "execution_count": null,
      "outputs": []
    },
    {
      "cell_type": "code",
      "source": [
        "save_name = 'Stock_Prediction_HDcar'\n",
        "now = time.localtime()\n",
        "plot_plt(history, save_name, now)"
      ],
      "metadata": {
        "id": "6UfnRObvgxyh"
      },
      "execution_count": null,
      "outputs": []
    },
    {
      "cell_type": "code",
      "source": [
        ""
      ],
      "metadata": {
        "id": "j0jyNrk_hTxn"
      },
      "execution_count": null,
      "outputs": []
    }
  ]
}