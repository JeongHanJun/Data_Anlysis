{
  "nbformat": 4,
  "nbformat_minor": 0,
  "metadata": {
    "colab": {
      "name": "Tensorflow_2.0_ver_basic_operations.ipynb",
      "private_outputs": true,
      "provenance": [],
      "collapsed_sections": [],
      "authorship_tag": "ABX9TyP4htY68miBuFt8WUoXn0N0",
      "include_colab_link": true
    },
    "kernelspec": {
      "name": "python3",
      "display_name": "Python 3"
    },
    "language_info": {
      "name": "python"
    }
  },
  "cells": [
    {
      "cell_type": "markdown",
      "metadata": {
        "id": "view-in-github",
        "colab_type": "text"
      },
      "source": [
        "<a href=\"https://colab.research.google.com/github/JeongHanJun/Data_Anlysis/blob/master/Tensorflow_2_0_ver_basic_operations.ipynb\" target=\"_parent\"><img src=\"https://colab.research.google.com/assets/colab-badge.svg\" alt=\"Open In Colab\"/></a>"
      ]
    },
    {
      "cell_type": "code",
      "metadata": {
        "id": "3NoWbaOMkxpS"
      },
      "source": [
        "import tensorflow as tf\n",
        "import numpy as np\n",
        "\n",
        "l1 = [1, 0, 1, 2, 3]\n",
        "l2 = [1, 2, 3, 2, 1]\n",
        "l3 = [-1, 0, 1, -2, 2 , 0.5 , -0.5]\n",
        "x1 = tf.constant(l1)\n",
        "x2 = tf.constant(l2)\n",
        "\n",
        "# 1. 덧셈 tf.add(텐서, 텐서)\n",
        "print(tf.add(l1, l2))\n",
        "# 2. 뺼셈 tf.subtract(텐서, 텐서)\n",
        "print(tf.subtract(l1, l2))\n",
        "# 3. 곱셈 tf.multiply(텐서, 텐서)\n",
        "print(tf.multiply(l1, l2))\n",
        "# 4. 나눗셈 tf.divide(텐서, 텐서)\n",
        "print(tf.divide(l1, l2))\n",
        "\n",
        "# 5. n-제곱 tf.pow(텐서, 텐서)\n",
        "print(tf.pow(l1, l2))\n",
        "# 6. 음수 부호 tf.negative(텐서)\n",
        "print(tf.negative(l1, l2))\n",
        "# 7. 절대값 tf.abs(텐서)\n",
        "print(tf.abs(l1))\n",
        "# 8. 부호 tf.sign(텐서)  -1, 0, 1 중에 하나가 출력된다.\n",
        "print(tf.sign(l3))\n",
        "\n",
        "# 9. 반올림 tf.round(텐서)  올림 tf.math.ceil(텐서)   내림 tf.floor(텐서) int형으로 리턴\n",
        "print(tf.sign(l3))\n",
        "print(tf.math.ceil(l3))\n",
        "print(tf.floor(l3))\n",
        "# 10. 제곱  tf.math.square(텐서)    \n",
        "print(tf.math.square(l3))\n",
        "# 11. 제곱근 tf.math.sqrt(텐서)\n",
        "const_num = tf.constant(4, tf.float32)\n",
        "print(tf.math.sqrt(const_num))\n",
        "\n",
        "# 12. 2개의 텐서들의 원소 중 최대값/최소값을 반환   tf.maximum(텐서1, 텐서2)     tf.minimum(텐서1, 텐서2)\n",
        "print(tf.maximum(l1, l2))\n",
        "print(tf.minimum(l1, l2))\n",
        "# 누적합 tf.cumsum(텐서)\n",
        "print(tf.cumsum(x1))\n",
        "print(int(tf.math.cumprod(x2)[-1]))# 누적곱 tf.math.cumprod(텐서)"
      ],
      "execution_count": null,
      "outputs": []
    }
  ]
}