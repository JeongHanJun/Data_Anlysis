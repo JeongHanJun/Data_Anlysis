{
 "cells": [
  {
   "cell_type": "markdown",
   "metadata": {},
   "source": [
    "## 머신러닝이 SW Engineering에 어떠한 영향을 주는가??"
   ]
  },
  {
   "cell_type": "markdown",
   "metadata": {},
   "source": [
    "+ 효과적인 프로그래밍\n",
    "+ 사용자에게 특화된 제품 제공\n",
    "+ 수동으로 할 방법이 없어보이는 문제를 해결할 수 있다\n",
    "+ 문제에 대해 생각하는 방법을 바꾼다. ( 논리/ 수리 -> 자연과학적 관점변화)"
   ]
  },
  {
   "cell_type": "markdown",
   "metadata": {},
   "source": [
    "## 머신러닝을 크게 분류해본다면?"
   ]
  },
  {
   "cell_type": "markdown",
   "metadata": {},
   "source": [
    "1. 지도학습 ( Supervised Learning )\n",
    "2. 비지도학습( Unsupervised Learning)\n",
    "3. 강화학습 (Reinforcement Learning)"
   ]
  },
  {
   "cell_type": "markdown",
   "metadata": {},
   "source": [
    "-1. 지도학습  \n",
    "\n",
    " 지도학습을 한마디로 정의하면?  \n",
    "- ML 시스템은 입력을 결합하여 이전에 본 적이 없는 데이터를 적절히 예측하는 방법을 학습합니다.  \n",
    "\n",
    "### < 기본적인 용어 설명 > \n",
    "#### 1. 라벨(Label)\n",
    "- 예측하려는 실제 항목 ( target )  ->  기본 선형회귀의 y변수  \n",
    "\n",
    "ex) 제품의 미래 가격, 사진에 표시되는 동물의 종류, 오디오 클립의 의미 등등 무엇이든 가능하다.\n",
    "  \n",
    "#### 2. 특성\n",
    "- 입력 변수  -> 기본 선형회귀의 x변수  ,  여러가지의 특성을 사용할 수 있다.  \n",
    "\n",
    "ex) 이메일의 스팸메일 감지 예시에 해당하는 x변수들은 (이메일 텍스트의 단어, 보낸사람의 주소, 이메일 전송된 시간, 'trick'이라는 구문이 포함된 이메일  \n",
    "\n",
    "#### 3. 예  \n",
    "- 데이터(x)의 특정 인스턴스를 의미 , 예는 2개의 카테고리로 분류됨  \n",
    "* 3-1) 라벨이 있는 예  \n",
    "    + 라벨이 있는 예에는 특성과 라벨이 모두 포함된다.  \n",
    "     labeled examples: {features, label}: (x, y)  \n",
    "     모델을 학습시키려면 라벨이 있는 예를 사용하는게 좋다.   \n",
    "     ex) 스팸 감지 예에서 라벨이 있는 예는 사용자가 명시적으로 '스팸' 혹은 '스팸 아님'으로 표시한 개별 이메일이다.  \n",
    "     \n",
    "\n",
    "* 3-2) 라벨이 없는 예  \n",
    "    + 라벨이 없는 예에는 특성은 포함되지만, 라벨은 포함되지 않는다.  \n",
    "    unlabeled examples: {features, ?}: (x, ?)  \n",
    "    라벨이 있는 예로 모델을 학습시킨 다음 해당 모델을 사용하여 라벨이 없는 예의 라벨을 예측합니다.  \n",
    "    스팸 감지 예에서 라벨이 없는 예는 사람이 라벨을 지정하지 않은 새 이메일입니다\n",
    "\n",
    "  \n",
    "\n",
    "#### 4. 모델  \n",
    "\n",
    " 모델은 특성과 라벨의 관계를 정의합니다.  \n",
    " 예를 들어, 스팸 감지 모델에서 특정 특성을 '스팸'과 긴밀하게 연결할 수 있습니다.    \n",
    " \n",
    " 모델 수명의 두 단계를 골라 살펴보겠습니다.  \n",
    " + 학습은 모델을 만들거나 배우는 것을 의미합니다. 즉 라벨이 있는 예를 모델에 보여 주고, 모델이 특성과 라벨의 관계를 점차적으로 학습하도록 합니다.    \n",
    " \n",
    " + 추론은 학습된 모델을 라벨이 없는 예에 적용하는 것을 의미합니다. 즉 학습된 모델을 사용하여 유용한 예측(y')을 해냅니다.   \n",
    "   \n",
    "     \n",
    "#### 회귀와 분류  \n",
    "\n",
    "회귀 모델은 연속적인 값을 예측합니다. 예를 들어 회귀 모델은 다음과 같은 질문에 대한 답을 예측합니다.  \n",
    "+ 캘리포니아의 주택 가격이 얼마인가요?  \n",
    "+ 사용자가 이 광고를 클릭할 확률이 얼마인가요?  \n",
    "  \n",
    "분류 모델은 불연속적인 값을 예측합니다. 예를 들어 분류 모델은 다음과 같은 질문에 대한 답을 예측합니다.  \n",
    "+ 주어진 이메일 메시지가 스팸인가요, 스팸이 아닌가요?\n",
    "+ 이 이미지가 강아지, 고양이 또는 햄스터의 이미지인가요?  \n"
   ]
  },
  {
   "cell_type": "code",
   "execution_count": null,
   "metadata": {},
   "outputs": [],
   "source": []
  },
  {
   "cell_type": "code",
   "execution_count": null,
   "metadata": {},
   "outputs": [],
   "source": []
  }
 ],
 "metadata": {
  "kernelspec": {
   "display_name": "Python 3",
   "language": "python",
   "name": "python3"
  },
  "language_info": {
   "codemirror_mode": {
    "name": "ipython",
    "version": 3
   },
   "file_extension": ".py",
   "mimetype": "text/x-python",
   "name": "python",
   "nbconvert_exporter": "python",
   "pygments_lexer": "ipython3",
   "version": "3.8.5"
  }
 },
 "nbformat": 4,
 "nbformat_minor": 4
}
